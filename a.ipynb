{
 "cells": [
  {
   "cell_type": "code",
   "execution_count": 26,
   "metadata": {},
   "outputs": [],
   "source": [
    "using TyDeepLearning\n",
    "using Random\n",
    "using TyPlot\n",
    "using TyImages"
   ]
  },
  {
   "cell_type": "code",
   "execution_count": 27,
   "metadata": {},
   "outputs": [
    {
     "data": {
      "text/plain": [
       "\"C:/APP/Mworks/Syslab 2024a/Library/artifacts/8d33d9a5e642fdd4d2eac97e303159f1eea1ee9a\""
      ]
     },
     "metadata": {},
     "output_type": "display_data"
    }
   ],
   "source": [
    "path = dataset_dir(\"digit\")"
   ]
  },
  {
   "cell_type": "code",
   "execution_count": 28,
   "metadata": {},
   "outputs": [
    {
     "data": {
      "text/plain": [
       "([0x00; 0x00; … ; 0x00; 0x00;;; 0x00; 0x00; … ; 0x00; 0x00;;; 0x00; 0x00; … ; 0x00; 0x00;;; … ;;; 0x00; 0x00; … ; 0x00; 0x00;;; 0x00; 0x00; … ; 0x00; 0x00;;; 0x00; 0x00; … ; 0x00; 0x00;;;; 0x00; 0x00; … ; 0x00; 0x00;;; 0x00; 0x00; … ; 0x00; 0x00;;; 0x00; 0x00; … ; 0x00; 0x00;;; … ;;; 0x00; 0x00; … ; 0x00; 0x00;;; 0x00; 0x00; … ; 0x00; 0x00;;; 0x00; 0x00; … ; 0x00; 0x00;;;; 0x00; 0x00; … ; 0x00; 0x00;;; 0x00; 0x00; … ; 0x00; 0x00;;; 0x00; 0x00; … ; 0x00; 0x00;;; … ;;; 0x00; 0x00; … ; 0x00; 0x00;;; 0x00; 0x00; … ; 0x00; 0x00;;; 0x00; 0x00; … ; 0x00; 0x00;;;; … ;;;; 0x00; 0x00; … ; 0x00; 0x00;;; 0x00; 0x00; … ; 0x00; 0x00;;; 0x00; 0x00; … ; 0x00; 0x00;;; … ;;; 0x00; 0x00; … ; 0x00; 0x00;;; 0x00; 0x00; … ; 0x00; 0x00;;; 0x00; 0x00; … ; 0x00; 0x00;;;; 0x00; 0x00; … ; 0x00; 0x00;;; 0x00; 0x00; … ; 0x00; 0x00;;; 0x00; 0x00; … ; 0x00; 0x00;;; … ;;; 0x00; 0x00; … ; 0x00; 0x00;;; 0x00; 0x00; … ; 0x00; 0x00;;; 0x00; 0x00; … ; 0x00; 0x00;;;; 0x00; 0x00; … ; 0x00; 0x00;;; 0x00; 0x00; … ; 0x00; 0x00;;; 0x00; 0x00; … ; 0x00; 0x00;;; … ;;; 0x00; 0x00; … ; 0x00; 0x00;;; 0x00; 0x00; … ; 0x00; 0x00;;; 0x00; 0x00; … ; 0x00; 0x00], [3, 3, 7, 7, 7, 7, 9, 9, 7, 7  …  2, 2, 3, 9, 9, 8, 9, 8, 9, 3])"
      ]
     },
     "metadata": {},
     "output_type": "display_data"
    }
   ],
   "source": [
    "X, Y = DigitDatasetTrainData(path)\n",
    "# valX, valY = DigitDatasetTestData(path)"
   ]
  },
  {
   "cell_type": "code",
   "execution_count": 29,
   "metadata": {},
   "outputs": [
    {
     "data": {
      "text/plain": [
       "((5000, 1, 28, 28), (5000,))"
      ]
     },
     "metadata": {},
     "output_type": "display_data"
    }
   ],
   "source": [
    "size(X), size(Y)"
   ]
  },
  {
   "cell_type": "code",
   "execution_count": 43,
   "metadata": {},
   "outputs": [
    {
     "data": {
      "text/plain": [
       "([3, 3, 7, 7, 7, 7, 9, 9, 7, 7  …  1, 0, 5, 5, 4, 8, 2, 0, 2, 3], [9, 4, 1, 4, 0, 9, 2, 9, 2, 1  …  2, 2, 3, 9, 9, 8, 9, 8, 9, 3])"
      ]
     },
     "metadata": {},
     "output_type": "display_data"
    }
   ],
   "source": [
    "# 拆分数据集 8/2\n",
    "split = 0.8\n",
    "num_train = Int32(round(size(X)[1]*split))\n",
    "# p = randperm(5000)\n",
    "# index1 = p[1:num_train]\n",
    "# index2 = p[num_train+1:end]\n",
    "# X_train  = X[index1, :, :, :]\n",
    "X_train,X_test  = X[1:num_train,:,:,:], X[num_train+1:end, :, :, :]\n",
    "Y_train,Y_test  = Y[1:num_train],Y[num_train+1:end]"
   ]
  },
  {
   "cell_type": "code",
   "execution_count": 44,
   "metadata": {},
   "outputs": [],
   "source": [
    "p2 = randperm(num_train)\n",
    "index = p2[1:20]\n",
    "figure(1)\n",
    "for i in eachindex(range(1, 20))\n",
    "    subplot(4, 5, i)\n",
    "    imshow(X_train[index[i], 1, :, :])\n",
    "end"
   ]
  },
  {
   "cell_type": "code",
   "execution_count": 45,
   "metadata": {},
   "outputs": [],
   "source": [
    "imageAugmenter = imageDataAugmenter(;RandomRotation = 20)\n",
    "X_train2 = permutedims(X_train, (1, 3, 4, 2))\n",
    "imagesize = (28, 28)\n",
    "augimds = augmentedImageDatastore(imagesize, X_train2, Y_train, imageAugmenter)\n",
    "\n",
    "augimds = permutedims(augimds, (1, 4, 2, 3))\n",
    "figure(2)\n",
    "for i in eachindex(range(1, 20))\n",
    "    subplot(4, 5, i)\n",
    "    imshow(augimds[index[i], 1, :, :])\n",
    "end"
   ]
  },
  {
   "cell_type": "code",
   "execution_count": 76,
   "metadata": {},
   "outputs": [
    {
     "data": {
      "text/plain": [
       "Dict{Any, Any} with 14 entries:\n",
       "  \"metrics\"              => \"Accuracy\"\n",
       "  \"optimizer\"            => \"Adam\"\n",
       "  \"epoch\"                => 20\n",
       "  \"batch_size\"           => 1024\n",
       "  \"learning_rate\"        => 0.001\n",
       "  \"verbose\"              => true\n",
       "  \"momentum\"             => 0.9\n",
       "  \"eval_data\"            => nothing\n",
       "  \"loss\"                 => \"CrossEntropyLoss\"\n",
       "  \"eval_label\"           => nothing\n",
       "  \"plots\"                => true\n",
       "  \"executionenvironment\" => \"CPU\"\n",
       "  \"checkpointpath\"       => nothing\n",
       "  \"shuffle\"              => true"
      ]
     },
     "metadata": {},
     "output_type": "display_data"
    }
   ],
   "source": [
    "options = trainingOptions(\"CrossEntropyLoss\", \"Adam\", \"Accuracy\", 1024, 20, 0.001; Shuffle =true , Plots = true,ExecutionEnvironment=\"CPU\")\n",
    "# options = trainingOptions(\"CrossEntropyLoss\", \"Adam\", \"Accuracy\", 512, 20, 0.001; Shuffle =true , Plots = true,CheckpointPath=\"./checkpoint\",ExecutionEnvironment=\"GPU\")\n",
    "# options = trainingOptions(\"CrossEntropyLoss\", \"Adam\", \"Accuracy\", 512, 20, 0.001; Shuffle =true , Plots = true,CheckpointPath=\"./checkpoint\",ExecutionEnvironment=\"auto\")"
   ]
  },
  {
   "cell_type": "code",
   "execution_count": 77,
   "metadata": {},
   "outputs": [
    {
     "data": {
      "text/plain": [
       "PyObject SequentialCell<\n",
       "  (0): Conv2d<input_channels=1, output_channels=8, kernel_size=(3, 3), stride=(1, 1), pad_mode=same, padding=0, dilation=(1, 1), group=1, has_bias=False, weight_init=normal, bias_init=zeros, format=NCHW>\n",
       "  (1): BatchNorm2d<num_features=8, eps=1e-05, momentum=0.9, gamma=Parameter (name=1.gamma, shape=(8,), dtype=Float32, requires_grad=True), beta=Parameter (name=1.beta, shape=(8,), dtype=Float32, requires_grad=True), moving_mean=Parameter (name=1.moving_mean, shape=(8,), dtype=Float32, requires_grad=False), moving_variance=Parameter (name=1.moving_variance, shape=(8,), dtype=Float32, requires_grad=False)>\n",
       "  (2): ReLU<>\n",
       "  (3): MaxPool2d<kernel_size=2, stride=2, pad_mode=VALID>\n",
       "  (4): Conv2d<input_channels=8, output_channels=16, kernel_size=(3, 3), stride=(1, 1), pad_mode=same, padding=0, dilation=(1, 1), group=1, has_bias=False, weight_init=normal, bias_init=zeros, format=NCHW>\n",
       "  (5): BatchNorm2d<num_features=16, eps=1e-05, momentum=0.9, gamma=Parameter (name=5.gamma, shape=(16,), dtype=Float32, requires_grad=True), beta=Parameter (name=5.beta, shape=(16,), dtype=Float32, requires_grad=True), moving_mean=Parameter (name=5.moving_mean, shape=(16,), dtype=Float32, requires_grad=False), moving_variance=Parameter (name=5.moving_variance, shape=(16,), dtype=Float32, requires_grad=False)>\n",
       "  (6): ReLU<>\n",
       "  (7): MaxPool2d<kernel_size=2, stride=2, pad_mode=VALID>\n",
       "  (8): Conv2d<input_channels=16, output_channels=32, kernel_size=(3, 3), stride=(1, 1), pad_mode=same, padding=0, dilation=(1, 1), group=1, has_bias=False, weight_init=normal, bias_init=zeros, format=NCHW>\n",
       "  (9): BatchNorm2d<num_features=32, eps=1e-05, momentum=0.9, gamma=Parameter (name=9.gamma, shape=(32,), dtype=Float32, requires_grad=True), beta=Parameter (name=9.beta, shape=(32,), dtype=Float32, requires_grad=True), moving_mean=Parameter (name=9.moving_mean, shape=(32,), dtype=Float32, requires_grad=False), moving_variance=Parameter (name=9.moving_variance, shape=(32,), dtype=Float32, requires_grad=False)>\n",
       "  (10): ReLU<>\n",
       "  (11): Flatten<>\n",
       "  (12): Dense<input_channels=1568, output_channels=10, has_bias=True>\n",
       "  (13): Softmax<>\n",
       "  >"
      ]
     },
     "metadata": {},
     "output_type": "display_data"
    }
   ],
   "source": [
    "layers = SequentialCell([\n",
    "    convolution2dLayer(size(X_train)[2], 8, 3),\n",
    "    batchNormalization2dLayer(8),\n",
    "    reluLayer(),\n",
    "    maxPooling2dLayer(2; Stride = 2),\n",
    "    convolution2dLayer(8, 16, 3),\n",
    "    batchNormalization2dLayer(16),\n",
    "    reluLayer(),\n",
    "    maxPooling2dLayer(2; Stride = 2),\n",
    "    convolution2dLayer(16, 32, 3),\n",
    "    batchNormalization2dLayer(32),\n",
    "    reluLayer(),\n",
    "    flattenLayer(),\n",
    "    fullyConnectedLayer(32 * 7 * 7, 10),\n",
    "    softmaxLayer()]\n",
    ")"
   ]
  },
  {
   "cell_type": "code",
   "execution_count": 78,
   "metadata": {},
   "outputs": [
    {
     "name": "stdout",
     "output_type": "stream",
     "text": [
      "None\r\n",
      "Epoch:[  0/ 20], step:[    1/    4], loss:[2.308/2.308], time:2354.761 ms, lr:0.00100\r\n",
      "Epoch:[  0/ 20], step:[    2/    4], loss:[2.287/2.298], time:593.011 ms, lr:0.00100\r\n",
      "Epoch:[  0/ 20], step:[    3/    4], loss:[2.265/2.287], time:524.204 ms, lr:0.00100\r\n",
      "Epoch:[  0/ 20], step:[    4/    4], loss:[2.238/2.275], time:2065.242 ms, lr:0.00100\r\n",
      "Epoch time: 5607.018 ms, per step time: 1401.754 ms, avg loss: 2.275\r\n",
      "Epoch:[  1/ 20], step:[    1/    4], loss:[2.210/2.210], time:478.268 ms, lr:0.00100\r\n",
      "Epoch:[  1/ 20], step:[    2/    4], loss:[2.180/2.195], time:496.102 ms, lr:0.00100\r\n",
      "Epoch:[  1/ 20], step:[    3/    4], loss:[2.148/2.179], time:359.230 ms, lr:0.00100\r\n",
      "Epoch:[  1/ 20], step:[    4/    4], loss:[2.130/2.167], time:455.690 ms, lr:0.00100\r\n",
      "Epoch time: 1804.377 ms, per step time: 451.094 ms, avg loss: 2.167\r\n",
      "Epoch:[  2/ 20], step:[    1/    4], loss:[2.091/2.091], time:407.202 ms, lr:0.00100\r\n",
      "Epoch:[  2/ 20], step:[    2/    4], loss:[2.050/2.070], time:367.674 ms, lr:0.00100\r\n",
      "Epoch:[  2/ 20], step:[    3/    4], loss:[2.042/2.061], time:366.838 ms, lr:0.00100\r\n",
      "Epoch:[  2/ 20], step:[    4/    4], loss:[2.011/2.049], time:449.745 ms, lr:0.00100\r\n",
      "Epoch time: 1609.779 ms, per step time: 402.445 ms, avg loss: 2.049\r\n",
      "Epoch:[  3/ 20], step:[    1/    4], loss:[1.975/1.975], time:364.252 ms, lr:0.00100\r\n",
      "Epoch:[  3/ 20], step:[    2/    4], loss:[1.963/1.969], time:342.512 ms, lr:0.00100\r\n",
      "Epoch:[  3/ 20], step:[    3/    4], loss:[1.917/1.952], time:347.911 ms, lr:0.00100\r\n",
      "Epoch:[  3/ 20], step:[    4/    4], loss:[1.900/1.939], time:458.921 ms, lr:0.00100\r\n",
      "Epoch time: 1532.932 ms, per step time: 383.233 ms, avg loss: 1.939\r\n",
      "Epoch:[  4/ 20], step:[    1/    4], loss:[1.879/1.879], time:369.280 ms, lr:0.00100\r\n",
      "Epoch:[  4/ 20], step:[    2/    4], loss:[1.856/1.868], time:344.247 ms, lr:0.00100\r\n",
      "Epoch:[  4/ 20], step:[    3/    4], loss:[1.824/1.853], time:327.586 ms, lr:0.00100\r\n",
      "Epoch:[  4/ 20], step:[    4/    4], loss:[1.827/1.847], time:535.326 ms, lr:0.00100\r\n",
      "Epoch time: 1595.443 ms, per step time: 398.861 ms, avg loss: 1.847\r\n",
      "Epoch:[  5/ 20], step:[    1/    4], loss:[1.795/1.795], time:380.162 ms, lr:0.00100\r\n",
      "Epoch:[  5/ 20], step:[    2/    4], loss:[1.785/1.790], time:338.854 ms, lr:0.00100\r\n",
      "Epoch:[  5/ 20], step:[    3/    4], loss:[1.772/1.784], time:315.569 ms, lr:0.00100\r\n",
      "Epoch:[  5/ 20], step:[    4/    4], loss:[1.733/1.771], time:315.760 ms, lr:0.00100\r\n",
      "Epoch time: 1371.195 ms, per step time: 342.799 ms, avg loss: 1.771\r\n",
      "Epoch:[  6/ 20], step:[    1/    4], loss:[1.733/1.733], time:328.570 ms, lr:0.00100\r\n",
      "Epoch:[  6/ 20], step:[    2/    4], loss:[1.720/1.726], time:317.783 ms, lr:0.00100\r\n",
      "Epoch:[  6/ 20], step:[    3/    4], loss:[1.697/1.717], time:307.334 ms, lr:0.00100\r\n",
      "Epoch:[  6/ 20], step:[    4/    4], loss:[1.696/1.712], time:348.612 ms, lr:0.00100\r\n",
      "Epoch time: 1322.015 ms, per step time: 330.504 ms, avg loss: 1.712\r\n",
      "Epoch:[  7/ 20], step:[    1/    4], loss:[1.696/1.696], time:357.625 ms, lr:0.00100\r\n",
      "Epoch:[  7/ 20], step:[    2/    4], loss:[1.660/1.678], time:318.171 ms, lr:0.00100\r\n",
      "Epoch:[  7/ 20], step:[    3/    4], loss:[1.641/1.666], time:315.073 ms, lr:0.00100\r\n",
      "Epoch:[  7/ 20], step:[    4/    4], loss:[1.651/1.662], time:325.302 ms, lr:0.00100\r\n",
      "Epoch time: 1335.595 ms, per step time: 333.899 ms, avg loss: 1.662\r\n",
      "Epoch:[  8/ 20], step:[    1/    4], loss:[1.646/1.646], time:335.580 ms, lr:0.00100\r\n",
      "Epoch:[  8/ 20], step:[    2/    4], loss:[1.621/1.634], time:325.565 ms, lr:0.00100\r\n",
      "Epoch:[  8/ 20], step:[    3/    4], loss:[1.621/1.629], time:329.120 ms, lr:0.00100\r\n",
      "Epoch:[  8/ 20], step:[    4/    4], loss:[1.607/1.624], time:357.061 ms, lr:0.00100\r\n",
      "Epoch time: 1370.669 ms, per step time: 342.667 ms, avg loss: 1.624\r\n",
      "Epoch:[  9/ 20], step:[    1/    4], loss:[1.602/1.602], time:342.385 ms, lr:0.00100\r\n",
      "Epoch:[  9/ 20], step:[    2/    4], loss:[1.592/1.597], time:316.009 ms, lr:0.00100\r\n",
      "Epoch:[  9/ 20], step:[    3/    4], loss:[1.595/1.596], time:298.111 ms, lr:0.00100\r\n",
      "Epoch:[  9/ 20], step:[    4/    4], loss:[1.591/1.595], time:333.572 ms, lr:0.00100\r\n",
      "Epoch time: 1309.777 ms, per step time: 327.444 ms, avg loss: 1.595\r\n",
      "Epoch:[ 10/ 20], step:[    1/    4], loss:[1.586/1.586], time:335.723 ms, lr:0.00100\r\n",
      "Epoch:[ 10/ 20], step:[    2/    4], loss:[1.574/1.580], time:338.688 ms, lr:0.00100\r\n",
      "Epoch:[ 10/ 20], step:[    3/    4], loss:[1.577/1.579], time:344.301 ms, lr:0.00100\r\n",
      "Epoch:[ 10/ 20], step:[    4/    4], loss:[1.564/1.575], time:297.329 ms, lr:0.00100\r\n",
      "Epoch time: 1337.102 ms, per step time: 334.275 ms, avg loss: 1.575\r\n",
      "Epoch:[ 11/ 20], step:[    1/    4], loss:[1.571/1.571], time:329.783 ms, lr:0.00100\r\n",
      "Epoch:[ 11/ 20], step:[    2/    4], loss:[1.563/1.567], time:334.371 ms, lr:0.00100\r\n",
      "Epoch:[ 11/ 20], step:[    3/    4], loss:[1.544/1.559], time:308.654 ms, lr:0.00100\r\n",
      "Epoch:[ 11/ 20], step:[    4/    4], loss:[1.550/1.557], time:276.328 ms, lr:0.00100\r\n",
      "Epoch time: 1267.148 ms, per step time: 316.787 ms, avg loss: 1.557\r\n",
      "Epoch:[ 12/ 20], step:[    1/    4], loss:[1.543/1.543], time:308.794 ms, lr:0.00100\r\n",
      "Epoch:[ 12/ 20], step:[    2/    4], loss:[1.556/1.549], time:357.319 ms, lr:0.00100\r\n",
      "Epoch:[ 12/ 20], step:[    3/    4], loss:[1.541/1.546], time:320.582 ms, lr:0.00100\r\n",
      "Epoch:[ 12/ 20], step:[    4/    4], loss:[1.528/1.542], time:303.537 ms, lr:0.00100\r\n",
      "Epoch time: 1308.236 ms, per step time: 327.059 ms, avg loss: 1.542\r\n",
      "Epoch:[ 13/ 20], step:[    1/    4], loss:[1.539/1.539], time:320.262 ms, lr:0.00100\r\n",
      "Epoch:[ 13/ 20], step:[    2/    4], loss:[1.539/1.539], time:318.171 ms, lr:0.00100\r\n",
      "Epoch:[ 13/ 20], step:[    3/    4], loss:[1.522/1.534], time:300.559 ms, lr:0.00100\r\n",
      "Epoch:[ 13/ 20], step:[    4/    4], loss:[1.520/1.530], time:309.129 ms, lr:0.00100\r\n",
      "Epoch time: 1267.667 ms, per step time: 316.917 ms, avg loss: 1.530\r\n",
      "Epoch:[ 14/ 20], step:[    1/    4], loss:[1.520/1.520], time:339.241 ms, lr:0.00100\r\n",
      "Epoch:[ 14/ 20], step:[    2/    4], loss:[1.521/1.521], time:327.444 ms, lr:0.00100\r\n",
      "Epoch:[ 14/ 20], step:[    3/    4], loss:[1.524/1.522], time:304.568 ms, lr:0.00100\r\n",
      "Epoch:[ 14/ 20], step:[    4/    4], loss:[1.524/1.522], time:310.127 ms, lr:0.00100\r\n",
      "Epoch time: 1300.148 ms, per step time: 325.037 ms, avg loss: 1.522\r\n",
      "Epoch:[ 15/ 20], step:[    1/    4], loss:[1.520/1.520], time:314.577 ms, lr:0.00100\r\n",
      "Epoch:[ 15/ 20], step:[    2/    4], loss:[1.516/1.518], time:308.842 ms, lr:0.00100\r\n",
      "Epoch:[ 15/ 20], step:[    3/    4], loss:[1.509/1.515], time:305.765 ms, lr:0.00100\r\n",
      "Epoch:[ 15/ 20], step:[    4/    4], loss:[1.514/1.515], time:291.569 ms, lr:0.00100\r\n",
      "Epoch time: 1238.792 ms, per step time: 309.698 ms, avg loss: 1.515\r\n",
      "Epoch:[ 16/ 20], step:[    1/    4], loss:[1.510/1.510], time:340.666 ms, lr:0.00100\r\n",
      "Epoch:[ 16/ 20], step:[    2/    4], loss:[1.513/1.511], time:315.970 ms, lr:0.00100\r\n",
      "Epoch:[ 16/ 20], step:[    3/    4], loss:[1.501/1.508], time:328.199 ms, lr:0.00100\r\n",
      "Epoch:[ 16/ 20], step:[    4/    4], loss:[1.505/1.507], time:299.590 ms, lr:0.00100\r\n",
      "Epoch time: 1301.943 ms, per step time: 325.486 ms, avg loss: 1.507\r\n",
      "Epoch:[ 17/ 20], step:[    1/    4], loss:[1.504/1.504], time:295.559 ms, lr:0.00100\r\n",
      "Epoch:[ 17/ 20], step:[    2/    4], loss:[1.505/1.505], time:304.071 ms, lr:0.00100\r\n",
      "Epoch:[ 17/ 20], step:[    3/    4], loss:[1.502/1.504], time:315.560 ms, lr:0.00100\r\n",
      "Epoch:[ 17/ 20], step:[    4/    4], loss:[1.498/1.502], time:308.965 ms, lr:0.00100\r\n",
      "Epoch time: 1240.825 ms, per step time: 310.206 ms, avg loss: 1.502\r\n",
      "Epoch:[ 18/ 20], step:[    1/    4], loss:[1.496/1.496], time:332.383 ms, lr:0.00100\r\n",
      "Epoch:[ 18/ 20], step:[    2/    4], loss:[1.498/1.497], time:327.672 ms, lr:0.00100\r\n",
      "Epoch:[ 18/ 20], step:[    3/    4], loss:[1.501/1.498], time:302.788 ms, lr:0.00100\r\n",
      "Epoch:[ 18/ 20], step:[    4/    4], loss:[1.493/1.497], time:282.554 ms, lr:0.00100\r\n",
      "Epoch time: 1263.223 ms, per step time: 315.806 ms, avg loss: 1.497\r\n",
      "Epoch:[ 19/ 20], step:[    1/    4], loss:[1.494/1.494], time:328.856 ms, lr:0.00100\r\n",
      "Epoch:[ 19/ 20], step:[    2/    4], loss:[1.490/1.492], time:325.608 ms, lr:0.00100\r\n",
      "Epoch:[ 19/ 20], step:[    3/    4], loss:[1.491/1.492], time:327.431 ms, lr:0.00100\r\n",
      "Epoch:[ 19/ 20], step:[    4/    4], loss:[1.493/1.492], time:327.897 ms, lr:0.00100\r\n",
      "Epoch time: 1328.614 ms, per step time: 332.154 ms, avg loss: 1.492\r\n"
     ]
    },
    {
     "data": {
      "text/plain": [
       "PyObject <mindspore.train.model.Model object at 0x0000022C119578C8>"
      ]
     },
     "metadata": {},
     "output_type": "display_data"
    }
   ],
   "source": [
    "net = trainNetwork(X_train, Y_train, layers, options)"
   ]
  },
  {
   "cell_type": "code",
   "execution_count": 79,
   "metadata": {},
   "outputs": [],
   "source": [
    "save(layers, \"./checkpoint/v1.ckpt\")"
   ]
  },
  {
   "cell_type": "code",
   "execution_count": 81,
   "metadata": {},
   "outputs": [
    {
     "data": {
      "text/plain": [
       "PyObject SequentialCell<\n",
       "  (0): Conv2d<input_channels=1, output_channels=8, kernel_size=(3, 3), stride=(1, 1), pad_mode=same, padding=0, dilation=(1, 1), group=1, has_bias=False, weight_init=normal, bias_init=zeros, format=NCHW>\n",
       "  (1): BatchNorm2d<num_features=8, eps=1e-05, momentum=0.9, gamma=Parameter (name=1.gamma, shape=(8,), dtype=Float32, requires_grad=True), beta=Parameter (name=1.beta, shape=(8,), dtype=Float32, requires_grad=True), moving_mean=Parameter (name=1.moving_mean, shape=(8,), dtype=Float32, requires_grad=False), moving_variance=Parameter (name=1.moving_variance, shape=(8,), dtype=Float32, requires_grad=False)>\n",
       "  (2): ReLU<>\n",
       "  (3): MaxPool2d<kernel_size=2, stride=2, pad_mode=VALID>\n",
       "  (4): Conv2d<input_channels=8, output_channels=16, kernel_size=(3, 3), stride=(1, 1), pad_mode=same, padding=0, dilation=(1, 1), group=1, has_bias=False, weight_init=normal, bias_init=zeros, format=NCHW>\n",
       "  (5): BatchNorm2d<num_features=16, eps=1e-05, momentum=0.9, gamma=Parameter (name=5.gamma, shape=(16,), dtype=Float32, requires_grad=True), beta=Parameter (name=5.beta, shape=(16,), dtype=Float32, requires_grad=True), moving_mean=Parameter (name=5.moving_mean, shape=(16,), dtype=Float32, requires_grad=False), moving_variance=Parameter (name=5.moving_variance, shape=(16,), dtype=Float32, requires_grad=False)>\n",
       "  (6): ReLU<>\n",
       "  (7): MaxPool2d<kernel_size=2, stride=2, pad_mode=VALID>\n",
       "  (8): Conv2d<input_channels=16, output_channels=32, kernel_size=(3, 3), stride=(1, 1), pad_mode=same, padding=0, dilation=(1, 1), group=1, has_bias=False, weight_init=normal, bias_init=zeros, format=NCHW>\n",
       "  (9): BatchNorm2d<num_features=32, eps=1e-05, momentum=0.9, gamma=Parameter (name=9.gamma, shape=(32,), dtype=Float32, requires_grad=True), beta=Parameter (name=9.beta, shape=(32,), dtype=Float32, requires_grad=True), moving_mean=Parameter (name=9.moving_mean, shape=(32,), dtype=Float32, requires_grad=False), moving_variance=Parameter (name=9.moving_variance, shape=(32,), dtype=Float32, requires_grad=False)>\n",
       "  (10): ReLU<>\n",
       "  (11): Flatten<>\n",
       "  (12): Dense<input_channels=1568, output_channels=10, has_bias=True>\n",
       "  (13): Softmax<>\n",
       "  >"
      ]
     },
     "metadata": {},
     "output_type": "display_data"
    }
   ],
   "source": [
    "net = TyDeepLearning.loadnetwork(\"./checkpoint/v1.ckpt\", net=layers)"
   ]
  },
  {
   "cell_type": "code",
   "execution_count": 93,
   "metadata": {},
   "outputs": [
    {
     "data": {
      "text/plain": [
       "0.98"
      ]
     },
     "metadata": {},
     "output_type": "display_data"
    }
   ],
   "source": [
    "YPred = TyDeepLearning.predict(net, X_test)\n",
    "# Int32(size(X)[1] - num_train)\n",
    "Y_val = reshape(Y_test, (Int32(size(X)[1] - num_train)))\n",
    "acc = accuracy(YPred, Y_val)"
   ]
  },
  {
   "cell_type": "code",
   "execution_count": null,
   "metadata": {},
   "outputs": [],
   "source": []
  }
 ],
 "metadata": {
  "kernelspec": {
   "display_name": "Julia 1.9.3",
   "language": "julia",
   "name": "julia-1.9"
  },
  "language_info": {
   "file_extension": ".jl",
   "mimetype": "application/julia",
   "name": "julia",
   "version": "1.9.3"
  },
  "orig_nbformat": 4
 },
 "nbformat": 4,
 "nbformat_minor": 2
}
